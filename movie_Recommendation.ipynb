{
 "cells": [
  {
   "cell_type": "markdown",
   "id": "2422cfa3-9976-4327-9bc5-31f36a937f23",
   "metadata": {},
   "source": [
    "# Collaborative Filtering Movie Recommendation System"
   ]
  },
  {
   "cell_type": "code",
   "execution_count": 51,
   "id": "3c6a2025-12be-4f96-927b-4f4bcab98475",
   "metadata": {},
   "outputs": [],
   "source": [
    "import pandas as pd\n",
    "import matplotlib.pyplot as plt\n",
    "import seaborn as sns\n",
    "from sklearn.model_selection import train_test_split\n",
    "from sklearn.metrics.pairwise import cosine_similarity\n",
    "import numpy as np"
   ]
  },
  {
   "cell_type": "markdown",
   "id": "5f5660da-d551-431e-a1bd-0d7da3e3807d",
   "metadata": {},
   "source": [
    "### Data Exploration and Preprocessing"
   ]
  },
  {
   "cell_type": "markdown",
   "id": "f0640d64-9b6d-4860-a707-55e26681a758",
   "metadata": {},
   "source": [
    "#### Load the Data"
   ]
  },
  {
   "cell_type": "code",
   "execution_count": 55,
   "id": "f7ac09e2-dfde-4846-9bd1-aafcfb1729a0",
   "metadata": {},
   "outputs": [],
   "source": [
    "ratings = pd.read_csv('u.data', sep='\\t', names=['user_id', 'movie_id', 'rating', 'timestamp'])\n",
    "movies = pd.read_csv('u.item', sep='|', encoding='ISO-8859-1', usecols=[0, 1], names=['movie_id', 'title'])"
   ]
  },
  {
   "cell_type": "code",
   "execution_count": 57,
   "id": "8609c5e9-5d04-45b5-91fe-65167a31d73c",
   "metadata": {},
   "outputs": [
    {
     "name": "stdout",
     "output_type": "stream",
     "text": [
      "   user_id  movie_id  rating  timestamp\n",
      "0      196       242       3  881250949\n",
      "1      186       302       3  891717742\n",
      "2       22       377       1  878887116\n",
      "3      244        51       2  880606923\n",
      "4      166       346       1  886397596\n",
      "   movie_id              title\n",
      "0         1   Toy Story (1995)\n",
      "1         2   GoldenEye (1995)\n",
      "2         3  Four Rooms (1995)\n",
      "3         4  Get Shorty (1995)\n",
      "4         5     Copycat (1995)\n"
     ]
    }
   ],
   "source": [
    "print(ratings.head())\n",
    "print(movies.head())"
   ]
  },
  {
   "cell_type": "code",
   "execution_count": 59,
   "id": "c835c1bc-3dd6-4357-8bf3-9749463c2ec1",
   "metadata": {},
   "outputs": [
    {
     "name": "stdout",
     "output_type": "stream",
     "text": [
      "   user_id  movie_id  rating  timestamp                       title\n",
      "0      196       242       3  881250949                Kolya (1996)\n",
      "1      186       302       3  891717742    L.A. Confidential (1997)\n",
      "2       22       377       1  878887116         Heavyweights (1994)\n",
      "3      244        51       2  880606923  Legends of the Fall (1994)\n",
      "4      166       346       1  886397596         Jackie Brown (1997)\n"
     ]
    }
   ],
   "source": [
    "merged_data = pd.merge(ratings, movies, on='movie_id')\n",
    "print(merged_data.head())"
   ]
  },
  {
   "cell_type": "markdown",
   "id": "932ab89f-1732-4b7b-ba80-b19e1b744539",
   "metadata": {},
   "source": [
    "#### Understand the Data Structure"
   ]
  },
  {
   "cell_type": "code",
   "execution_count": 62,
   "id": "982af35f-40dc-4644-8c30-a82e0bbc7361",
   "metadata": {},
   "outputs": [
    {
     "name": "stdout",
     "output_type": "stream",
     "text": [
      "Number of unique users: 943\n",
      "Number of unique Movies: 1682\n"
     ]
    }
   ],
   "source": [
    "num_users = ratings['user_id'].nunique()\n",
    "num_movie=movies['movie_id'].nunique()\n",
    "\n",
    "print(f\"Number of unique users: {num_users}\")\n",
    "print(f\"Number of unique Movies: {num_movie}\")\n"
   ]
  },
  {
   "cell_type": "code",
   "execution_count": 64,
   "id": "78449ec8-6abf-4304-aabc-84b1e6ff7e9f",
   "metadata": {},
   "outputs": [
    {
     "name": "stdout",
     "output_type": "stream",
     "text": [
      "user_id      0\n",
      "movie_id     0\n",
      "rating       0\n",
      "timestamp    0\n",
      "dtype: int64\n"
     ]
    }
   ],
   "source": [
    "# Check for null values\n",
    "print(ratings.isnull().sum())"
   ]
  },
  {
   "cell_type": "markdown",
   "id": "0b6b8bc9-6519-42cb-a4ce-155c4fa598bd",
   "metadata": {},
   "source": [
    "### Basic Exploratory Data Analysis"
   ]
  },
  {
   "cell_type": "markdown",
   "id": "a0062316-2719-4fbb-a1b5-115ba1c004a5",
   "metadata": {},
   "source": [
    "#### Distribution of Ratings, Most Rated Movies"
   ]
  },
  {
   "cell_type": "code",
   "execution_count": 68,
   "id": "b3faae7c-e381-4356-bc83-fdf8f95bc4b6",
   "metadata": {},
   "outputs": [
    {
     "data": {
      "image/png": "[encoded data removed]",
      "text/plain": [
       "<Figure size 640x480 with 1 Axes>"
      ]
     },
     "metadata": {},
     "output_type": "display_data"
    },
    {
     "name": "stdout",
     "output_type": "stream",
     "text": [
      "movie_id\n",
      "50     583\n",
      "258    509\n",
      "100    508\n",
      "181    507\n",
      "294    485\n",
      "286    481\n",
      "288    478\n",
      "1      452\n",
      "300    431\n",
      "121    429\n",
      "dtype: int64\n"
     ]
    }
   ],
   "source": [
    "# Rating distribution\n",
    "sns.histplot(ratings['rating'], bins=5, kde=False)\n",
    "plt.title(\"Rating Distribution\")\n",
    "plt.show()\n",
    "\n",
    "# Most-rated movies\n",
    "most_rated = ratings.groupby('movie_id').size().sort_values(ascending=False).head(10)\n",
    "print(most_rated)"
   ]
  },
  {
   "cell_type": "markdown",
   "id": "5621469d-3568-4667-9933-664ad2a05f85",
   "metadata": {},
   "source": [
    "#### Create the User-Item Matrix"
   ]
  },
  {
   "cell_type": "code",
   "execution_count": 71,
   "id": "153f67a3-c630-4682-83d7-7f7a736d4132",
   "metadata": {},
   "outputs": [],
   "source": [
    "# Pivot the data to create the user-item matrix\n",
    "user_item_matrix = ratings.pivot(index='user_id', columns='movie_id', values='rating').fillna(0)"
   ]
  },
  {
   "cell_type": "code",
   "execution_count": 73,
   "id": "1fb68380-4415-4ff9-8da7-2fd600a3aae3",
   "metadata": {},
   "outputs": [
    {
     "name": "stdout",
     "output_type": "stream",
     "text": [
      "movie_id  1     2     3     4     5     6     7     8     9     10    ...  \\\n",
      "user_id                                                               ...   \n",
      "1          5.0   3.0   4.0   3.0   3.0   5.0   4.0   1.0   5.0   3.0  ...   \n",
      "2          4.0   0.0   0.0   0.0   0.0   0.0   0.0   0.0   0.0   2.0  ...   \n",
      "3          0.0   0.0   0.0   0.0   0.0   0.0   0.0   0.0   0.0   0.0  ...   \n",
      "4          0.0   0.0   0.0   0.0   0.0   0.0   0.0   0.0   0.0   0.0  ...   \n",
      "5          4.0   3.0   0.0   0.0   0.0   0.0   0.0   0.0   0.0   0.0  ...   \n",
      "\n",
      "movie_id  1673  1674  1675  1676  1677  1678  1679  1680  1681  1682  \n",
      "user_id                                                               \n",
      "1          0.0   0.0   0.0   0.0   0.0   0.0   0.0   0.0   0.0   0.0  \n",
      "2          0.0   0.0   0.0   0.0   0.0   0.0   0.0   0.0   0.0   0.0  \n",
      "3          0.0   0.0   0.0   0.0   0.0   0.0   0.0   0.0   0.0   0.0  \n",
      "4          0.0   0.0   0.0   0.0   0.0   0.0   0.0   0.0   0.0   0.0  \n",
      "5          0.0   0.0   0.0   0.0   0.0   0.0   0.0   0.0   0.0   0.0  \n",
      "\n",
      "[5 rows x 1682 columns]\n"
     ]
    }
   ],
   "source": [
    "print(user_item_matrix.head())"
   ]
  },
  {
   "cell_type": "markdown",
   "id": "6738d041-6077-4019-bd39-9a89cc554b82",
   "metadata": {},
   "source": [
    "#### Normalize the Data"
   ]
  },
  {
   "cell_type": "code",
   "execution_count": 76,
   "id": "a4d1f7d9-b004-492b-b278-e0be10ca0ba9",
   "metadata": {},
   "outputs": [],
   "source": [
    "def standardize(row):\n",
    "    new_row=(row - row.mean())/(row.max() - row.min())\n",
    "    return new_row\n",
    "\n",
    "user_item_matrix_standardize= user_item_matrix.apply(standardize)"
   ]
  },
  {
   "cell_type": "code",
   "execution_count": 78,
   "id": "ce3dc1ab-90a9-47c5-8084-4f806b71f25e",
   "metadata": {},
   "outputs": [
    {
     "data": {
      "text/html": [
       "<div>\n",
       "<style scoped>\n",
       "    .dataframe tbody tr th:only-of-type {\n",
       "        vertical-align: middle;\n",
       "    }\n",
       "\n",
       "    .dataframe tbody tr th {\n",
       "        vertical-align: top;\n",
       "    }\n",
       "\n",
       "    .dataframe thead th {\n",
       "        text-align: right;\n",
       "    }\n",
       "</style>\n",
       "<table border=\"1\" class=\"dataframe\">\n",
       "  <thead>\n",
       "    <tr style=\"text-align: right;\">\n",
       "      <th>movie_id</th>\n",
       "      <th>1</th>\n",
       "      <th>2</th>\n",
       "      <th>3</th>\n",
       "      <th>4</th>\n",
       "      <th>5</th>\n",
       "      <th>6</th>\n",
       "      <th>7</th>\n",
       "      <th>8</th>\n",
       "      <th>9</th>\n",
       "      <th>10</th>\n",
       "      <th>...</th>\n",
       "      <th>1673</th>\n",
       "      <th>1674</th>\n",
       "      <th>1675</th>\n",
       "      <th>1676</th>\n",
       "      <th>1677</th>\n",
       "      <th>1678</th>\n",
       "      <th>1679</th>\n",
       "      <th>1680</th>\n",
       "      <th>1681</th>\n",
       "      <th>1682</th>\n",
       "    </tr>\n",
       "    <tr>\n",
       "      <th>user_id</th>\n",
       "      <th></th>\n",
       "      <th></th>\n",
       "      <th></th>\n",
       "      <th></th>\n",
       "      <th></th>\n",
       "      <th></th>\n",
       "      <th></th>\n",
       "      <th></th>\n",
       "      <th></th>\n",
       "      <th></th>\n",
       "      <th></th>\n",
       "      <th></th>\n",
       "      <th></th>\n",
       "      <th></th>\n",
       "      <th></th>\n",
       "      <th></th>\n",
       "      <th></th>\n",
       "      <th></th>\n",
       "      <th></th>\n",
       "      <th></th>\n",
       "      <th></th>\n",
       "    </tr>\n",
       "  </thead>\n",
       "  <tbody>\n",
       "    <tr>\n",
       "      <th>1</th>\n",
       "      <td>0.628208</td>\n",
       "      <td>0.510923</td>\n",
       "      <td>0.7421</td>\n",
       "      <td>0.44263</td>\n",
       "      <td>0.539767</td>\n",
       "      <td>0.980276</td>\n",
       "      <td>0.484199</td>\n",
       "      <td>0.014422</td>\n",
       "      <td>0.752916</td>\n",
       "      <td>0.527678</td>\n",
       "      <td>...</td>\n",
       "      <td>-0.00106</td>\n",
       "      <td>-0.00106</td>\n",
       "      <td>-0.00106</td>\n",
       "      <td>-0.00106</td>\n",
       "      <td>-0.00106</td>\n",
       "      <td>-0.00106</td>\n",
       "      <td>-0.00106</td>\n",
       "      <td>-0.00106</td>\n",
       "      <td>-0.00106</td>\n",
       "      <td>-0.00106</td>\n",
       "    </tr>\n",
       "    <tr>\n",
       "      <th>2</th>\n",
       "      <td>0.428208</td>\n",
       "      <td>-0.089077</td>\n",
       "      <td>-0.0579</td>\n",
       "      <td>-0.15737</td>\n",
       "      <td>-0.060233</td>\n",
       "      <td>-0.019724</td>\n",
       "      <td>-0.315801</td>\n",
       "      <td>-0.185578</td>\n",
       "      <td>-0.247084</td>\n",
       "      <td>0.327678</td>\n",
       "      <td>...</td>\n",
       "      <td>-0.00106</td>\n",
       "      <td>-0.00106</td>\n",
       "      <td>-0.00106</td>\n",
       "      <td>-0.00106</td>\n",
       "      <td>-0.00106</td>\n",
       "      <td>-0.00106</td>\n",
       "      <td>-0.00106</td>\n",
       "      <td>-0.00106</td>\n",
       "      <td>-0.00106</td>\n",
       "      <td>-0.00106</td>\n",
       "    </tr>\n",
       "    <tr>\n",
       "      <th>3</th>\n",
       "      <td>-0.371792</td>\n",
       "      <td>-0.089077</td>\n",
       "      <td>-0.0579</td>\n",
       "      <td>-0.15737</td>\n",
       "      <td>-0.060233</td>\n",
       "      <td>-0.019724</td>\n",
       "      <td>-0.315801</td>\n",
       "      <td>-0.185578</td>\n",
       "      <td>-0.247084</td>\n",
       "      <td>-0.072322</td>\n",
       "      <td>...</td>\n",
       "      <td>-0.00106</td>\n",
       "      <td>-0.00106</td>\n",
       "      <td>-0.00106</td>\n",
       "      <td>-0.00106</td>\n",
       "      <td>-0.00106</td>\n",
       "      <td>-0.00106</td>\n",
       "      <td>-0.00106</td>\n",
       "      <td>-0.00106</td>\n",
       "      <td>-0.00106</td>\n",
       "      <td>-0.00106</td>\n",
       "    </tr>\n",
       "    <tr>\n",
       "      <th>4</th>\n",
       "      <td>-0.371792</td>\n",
       "      <td>-0.089077</td>\n",
       "      <td>-0.0579</td>\n",
       "      <td>-0.15737</td>\n",
       "      <td>-0.060233</td>\n",
       "      <td>-0.019724</td>\n",
       "      <td>-0.315801</td>\n",
       "      <td>-0.185578</td>\n",
       "      <td>-0.247084</td>\n",
       "      <td>-0.072322</td>\n",
       "      <td>...</td>\n",
       "      <td>-0.00106</td>\n",
       "      <td>-0.00106</td>\n",
       "      <td>-0.00106</td>\n",
       "      <td>-0.00106</td>\n",
       "      <td>-0.00106</td>\n",
       "      <td>-0.00106</td>\n",
       "      <td>-0.00106</td>\n",
       "      <td>-0.00106</td>\n",
       "      <td>-0.00106</td>\n",
       "      <td>-0.00106</td>\n",
       "    </tr>\n",
       "    <tr>\n",
       "      <th>5</th>\n",
       "      <td>0.428208</td>\n",
       "      <td>0.510923</td>\n",
       "      <td>-0.0579</td>\n",
       "      <td>-0.15737</td>\n",
       "      <td>-0.060233</td>\n",
       "      <td>-0.019724</td>\n",
       "      <td>-0.315801</td>\n",
       "      <td>-0.185578</td>\n",
       "      <td>-0.247084</td>\n",
       "      <td>-0.072322</td>\n",
       "      <td>...</td>\n",
       "      <td>-0.00106</td>\n",
       "      <td>-0.00106</td>\n",
       "      <td>-0.00106</td>\n",
       "      <td>-0.00106</td>\n",
       "      <td>-0.00106</td>\n",
       "      <td>-0.00106</td>\n",
       "      <td>-0.00106</td>\n",
       "      <td>-0.00106</td>\n",
       "      <td>-0.00106</td>\n",
       "      <td>-0.00106</td>\n",
       "    </tr>\n",
       "    <tr>\n",
       "      <th>...</th>\n",
       "      <td>...</td>\n",
       "      <td>...</td>\n",
       "      <td>...</td>\n",
       "      <td>...</td>\n",
       "      <td>...</td>\n",
       "      <td>...</td>\n",
       "      <td>...</td>\n",
       "      <td>...</td>\n",
       "      <td>...</td>\n",
       "      <td>...</td>\n",
       "      <td>...</td>\n",
       "      <td>...</td>\n",
       "      <td>...</td>\n",
       "      <td>...</td>\n",
       "      <td>...</td>\n",
       "      <td>...</td>\n",
       "      <td>...</td>\n",
       "      <td>...</td>\n",
       "      <td>...</td>\n",
       "      <td>...</td>\n",
       "      <td>...</td>\n",
       "    </tr>\n",
       "    <tr>\n",
       "      <th>939</th>\n",
       "      <td>-0.371792</td>\n",
       "      <td>-0.089077</td>\n",
       "      <td>-0.0579</td>\n",
       "      <td>-0.15737</td>\n",
       "      <td>-0.060233</td>\n",
       "      <td>-0.019724</td>\n",
       "      <td>-0.315801</td>\n",
       "      <td>-0.185578</td>\n",
       "      <td>0.752916</td>\n",
       "      <td>-0.072322</td>\n",
       "      <td>...</td>\n",
       "      <td>-0.00106</td>\n",
       "      <td>-0.00106</td>\n",
       "      <td>-0.00106</td>\n",
       "      <td>-0.00106</td>\n",
       "      <td>-0.00106</td>\n",
       "      <td>-0.00106</td>\n",
       "      <td>-0.00106</td>\n",
       "      <td>-0.00106</td>\n",
       "      <td>-0.00106</td>\n",
       "      <td>-0.00106</td>\n",
       "    </tr>\n",
       "    <tr>\n",
       "      <th>940</th>\n",
       "      <td>-0.371792</td>\n",
       "      <td>-0.089077</td>\n",
       "      <td>-0.0579</td>\n",
       "      <td>0.24263</td>\n",
       "      <td>-0.060233</td>\n",
       "      <td>-0.019724</td>\n",
       "      <td>0.484199</td>\n",
       "      <td>0.814422</td>\n",
       "      <td>0.352916</td>\n",
       "      <td>-0.072322</td>\n",
       "      <td>...</td>\n",
       "      <td>-0.00106</td>\n",
       "      <td>-0.00106</td>\n",
       "      <td>-0.00106</td>\n",
       "      <td>-0.00106</td>\n",
       "      <td>-0.00106</td>\n",
       "      <td>-0.00106</td>\n",
       "      <td>-0.00106</td>\n",
       "      <td>-0.00106</td>\n",
       "      <td>-0.00106</td>\n",
       "      <td>-0.00106</td>\n",
       "    </tr>\n",
       "    <tr>\n",
       "      <th>941</th>\n",
       "      <td>0.628208</td>\n",
       "      <td>-0.089077</td>\n",
       "      <td>-0.0579</td>\n",
       "      <td>-0.15737</td>\n",
       "      <td>-0.060233</td>\n",
       "      <td>-0.019724</td>\n",
       "      <td>0.484199</td>\n",
       "      <td>-0.185578</td>\n",
       "      <td>-0.247084</td>\n",
       "      <td>-0.072322</td>\n",
       "      <td>...</td>\n",
       "      <td>-0.00106</td>\n",
       "      <td>-0.00106</td>\n",
       "      <td>-0.00106</td>\n",
       "      <td>-0.00106</td>\n",
       "      <td>-0.00106</td>\n",
       "      <td>-0.00106</td>\n",
       "      <td>-0.00106</td>\n",
       "      <td>-0.00106</td>\n",
       "      <td>-0.00106</td>\n",
       "      <td>-0.00106</td>\n",
       "    </tr>\n",
       "    <tr>\n",
       "      <th>942</th>\n",
       "      <td>-0.371792</td>\n",
       "      <td>-0.089077</td>\n",
       "      <td>-0.0579</td>\n",
       "      <td>-0.15737</td>\n",
       "      <td>-0.060233</td>\n",
       "      <td>-0.019724</td>\n",
       "      <td>-0.315801</td>\n",
       "      <td>-0.185578</td>\n",
       "      <td>-0.247084</td>\n",
       "      <td>-0.072322</td>\n",
       "      <td>...</td>\n",
       "      <td>-0.00106</td>\n",
       "      <td>-0.00106</td>\n",
       "      <td>-0.00106</td>\n",
       "      <td>-0.00106</td>\n",
       "      <td>-0.00106</td>\n",
       "      <td>-0.00106</td>\n",
       "      <td>-0.00106</td>\n",
       "      <td>-0.00106</td>\n",
       "      <td>-0.00106</td>\n",
       "      <td>-0.00106</td>\n",
       "    </tr>\n",
       "    <tr>\n",
       "      <th>943</th>\n",
       "      <td>-0.371792</td>\n",
       "      <td>0.910923</td>\n",
       "      <td>-0.0579</td>\n",
       "      <td>-0.15737</td>\n",
       "      <td>-0.060233</td>\n",
       "      <td>-0.019724</td>\n",
       "      <td>-0.315801</td>\n",
       "      <td>-0.185578</td>\n",
       "      <td>0.352916</td>\n",
       "      <td>-0.072322</td>\n",
       "      <td>...</td>\n",
       "      <td>-0.00106</td>\n",
       "      <td>-0.00106</td>\n",
       "      <td>-0.00106</td>\n",
       "      <td>-0.00106</td>\n",
       "      <td>-0.00106</td>\n",
       "      <td>-0.00106</td>\n",
       "      <td>-0.00106</td>\n",
       "      <td>-0.00106</td>\n",
       "      <td>-0.00106</td>\n",
       "      <td>-0.00106</td>\n",
       "    </tr>\n",
       "  </tbody>\n",
       "</table>\n",
       "<p>943 rows × 1682 columns</p>\n",
       "</div>"
      ],
      "text/plain": [
       "movie_id      1         2       3        4         5         6         7     \\\n",
       "user_id                                                                       \n",
       "1         0.628208  0.510923  0.7421  0.44263  0.539767  0.980276  0.484199   \n",
       "2         0.428208 -0.089077 -0.0579 -0.15737 -0.060233 -0.019724 -0.315801   \n",
       "3        -0.371792 -0.089077 -0.0579 -0.15737 -0.060233 -0.019724 -0.315801   \n",
       "4        -0.371792 -0.089077 -0.0579 -0.15737 -0.060233 -0.019724 -0.315801   \n",
       "5         0.428208  0.510923 -0.0579 -0.15737 -0.060233 -0.019724 -0.315801   \n",
       "...            ...       ...     ...      ...       ...       ...       ...   \n",
       "939      -0.371792 -0.089077 -0.0579 -0.15737 -0.060233 -0.019724 -0.315801   \n",
       "940      -0.371792 -0.089077 -0.0579  0.24263 -0.060233 -0.019724  0.484199   \n",
       "941       0.628208 -0.089077 -0.0579 -0.15737 -0.060233 -0.019724  0.484199   \n",
       "942      -0.371792 -0.089077 -0.0579 -0.15737 -0.060233 -0.019724 -0.315801   \n",
       "943      -0.371792  0.910923 -0.0579 -0.15737 -0.060233 -0.019724 -0.315801   \n",
       "\n",
       "movie_id      8         9         10    ...     1673     1674     1675  \\\n",
       "user_id                                 ...                              \n",
       "1         0.014422  0.752916  0.527678  ... -0.00106 -0.00106 -0.00106   \n",
       "2        -0.185578 -0.247084  0.327678  ... -0.00106 -0.00106 -0.00106   \n",
       "3        -0.185578 -0.247084 -0.072322  ... -0.00106 -0.00106 -0.00106   \n",
       "4        -0.185578 -0.247084 -0.072322  ... -0.00106 -0.00106 -0.00106   \n",
       "5        -0.185578 -0.247084 -0.072322  ... -0.00106 -0.00106 -0.00106   \n",
       "...            ...       ...       ...  ...      ...      ...      ...   \n",
       "939      -0.185578  0.752916 -0.072322  ... -0.00106 -0.00106 -0.00106   \n",
       "940       0.814422  0.352916 -0.072322  ... -0.00106 -0.00106 -0.00106   \n",
       "941      -0.185578 -0.247084 -0.072322  ... -0.00106 -0.00106 -0.00106   \n",
       "942      -0.185578 -0.247084 -0.072322  ... -0.00106 -0.00106 -0.00106   \n",
       "943      -0.185578  0.352916 -0.072322  ... -0.00106 -0.00106 -0.00106   \n",
       "\n",
       "movie_id     1676     1677     1678     1679     1680     1681     1682  \n",
       "user_id                                                                  \n",
       "1        -0.00106 -0.00106 -0.00106 -0.00106 -0.00106 -0.00106 -0.00106  \n",
       "2        -0.00106 -0.00106 -0.00106 -0.00106 -0.00106 -0.00106 -0.00106  \n",
       "3        -0.00106 -0.00106 -0.00106 -0.00106 -0.00106 -0.00106 -0.00106  \n",
       "4        -0.00106 -0.00106 -0.00106 -0.00106 -0.00106 -0.00106 -0.00106  \n",
       "5        -0.00106 -0.00106 -0.00106 -0.00106 -0.00106 -0.00106 -0.00106  \n",
       "...           ...      ...      ...      ...      ...      ...      ...  \n",
       "939      -0.00106 -0.00106 -0.00106 -0.00106 -0.00106 -0.00106 -0.00106  \n",
       "940      -0.00106 -0.00106 -0.00106 -0.00106 -0.00106 -0.00106 -0.00106  \n",
       "941      -0.00106 -0.00106 -0.00106 -0.00106 -0.00106 -0.00106 -0.00106  \n",
       "942      -0.00106 -0.00106 -0.00106 -0.00106 -0.00106 -0.00106 -0.00106  \n",
       "943      -0.00106 -0.00106 -0.00106 -0.00106 -0.00106 -0.00106 -0.00106  \n",
       "\n",
       "[943 rows x 1682 columns]"
      ]
     },
     "execution_count": 78,
     "metadata": {},
     "output_type": "execute_result"
    }
   ],
   "source": [
    "user_item_matrix_standardize"
   ]
  },
  {
   "cell_type": "markdown",
   "id": "c4a4c87a-fcce-498d-a912-a8ff1a926196",
   "metadata": {},
   "source": [
    "#### Convert to a long format to split into train and test\n"
   ]
  },
  {
   "cell_type": "code",
   "execution_count": 81,
   "id": "eff96b3f-2b21-4f06-bd8c-e0784e460aef",
   "metadata": {},
   "outputs": [
    {
     "name": "stdout",
     "output_type": "stream",
     "text": [
      "Training set size: 80000\n",
      "Testing set size: 20000\n"
     ]
    }
   ],
   "source": [
    "ratings_long = ratings[['user_id', 'movie_id', 'rating']]\n",
    "train_data, test_data = train_test_split(ratings_long, test_size=0.2, random_state=42)\n",
    "print(f\"Training set size: {len(train_data)}\")\n",
    "print(f\"Testing set size: {len(test_data)}\")"
   ]
  },
  {
   "cell_type": "markdown",
   "id": "3a5b37b5-c442-40dc-a74c-886a4ed9255e",
   "metadata": {},
   "source": [
    "### Choose and Build a Collaborative Filtering Model"
   ]
  },
  {
   "cell_type": "markdown",
   "id": "2d2d423f-94a2-41af-8ea5-9b66613c437b",
   "metadata": {},
   "source": [
    "##### Compute the User Similarity Matrix"
   ]
  },
  {
   "cell_type": "code",
   "execution_count": 85,
   "id": "3e3f8f23-61c5-42a6-afa9-74116ad1fdef",
   "metadata": {},
   "outputs": [
    {
     "name": "stdout",
     "output_type": "stream",
     "text": [
      "user_id       1         2         3         4         5         6         7    \\\n",
      "user_id                                                                         \n",
      "1        1.000000 -0.171553 -0.310506 -0.301730  0.140798  0.217034  0.252578   \n",
      "2       -0.171553  1.000000  0.083406  0.148355 -0.140813 -0.050435 -0.255074   \n",
      "3       -0.310506  0.083406  1.000000  0.448948 -0.128011 -0.245160 -0.321217   \n",
      "4       -0.301730  0.148355  0.448948  1.000000 -0.120693 -0.258083 -0.305829   \n",
      "5        0.140798 -0.140813 -0.128011 -0.120693  1.000000 -0.028745  0.129126   \n",
      "...           ...       ...       ...       ...       ...       ...       ...   \n",
      "939     -0.181064  0.160643  0.075065  0.080719 -0.080885 -0.162021 -0.212341   \n",
      "940      0.009340 -0.005318 -0.022683  0.009800 -0.006511  0.073813  0.028901   \n",
      "941     -0.265128  0.112881  0.244181  0.291685 -0.043512 -0.225676 -0.391526   \n",
      "942     -0.112166  0.011790  0.040082  0.074352 -0.048235  0.081377  0.008112   \n",
      "943      0.169249 -0.161850 -0.205132 -0.177020  0.100134  0.010484  0.165261   \n",
      "\n",
      "user_id       8         9         10   ...       934       935       936  \\\n",
      "user_id                                ...                                 \n",
      "1        0.003320 -0.294276  0.163441  ...  0.149188 -0.257077  0.045789   \n",
      "2       -0.069152  0.139590 -0.123241  ... -0.089387  0.227199  0.218667   \n",
      "3        0.021711  0.229398 -0.215500  ... -0.193544  0.098631  0.044842   \n",
      "4        0.127025  0.267787 -0.227166  ... -0.177992  0.095577  0.011569   \n",
      "5        0.044831 -0.092666 -0.047660  ...  0.141392 -0.116999 -0.101937   \n",
      "...           ...       ...       ...  ...       ...       ...       ...   \n",
      "939     -0.006704  0.101803 -0.177543  ... -0.143673  0.411238  0.145292   \n",
      "940     -0.005053 -0.071118  0.089724  ...  0.089546 -0.139727 -0.032254   \n",
      "941      0.059733  0.303188 -0.240565  ... -0.221834  0.238133  0.138212   \n",
      "942     -0.007946  0.001427 -0.028432  ...  0.014139 -0.076042 -0.089070   \n",
      "943      0.057091 -0.160271 -0.034884  ...  0.030476 -0.040466 -0.076587   \n",
      "\n",
      "user_id       937       938       939       940       941       942       943  \n",
      "user_id                                                                        \n",
      "1       -0.183224 -0.121154 -0.181064  0.009340 -0.265128 -0.112166  0.169249  \n",
      "2        0.367615  0.159504  0.160643 -0.005318  0.112881  0.011790 -0.161850  \n",
      "3        0.174624  0.006866  0.075065 -0.022683  0.244181  0.040082 -0.205132  \n",
      "4        0.288156  0.026199  0.080719  0.009800  0.291685  0.074352 -0.177020  \n",
      "5       -0.100470 -0.079034 -0.080885 -0.006511 -0.043512 -0.048235  0.100134  \n",
      "...           ...       ...       ...       ...       ...       ...       ...  \n",
      "939      0.232948  0.333031  1.000000 -0.108957  0.207757 -0.076685 -0.062368  \n",
      "940     -0.035485 -0.100667 -0.108957  1.000000 -0.085376  0.045437 -0.042298  \n",
      "941      0.317881  0.168779  0.207757 -0.085376  1.000000 -0.019215 -0.179054  \n",
      "942      0.006608 -0.113344 -0.076685  0.045437 -0.019215  1.000000 -0.051924  \n",
      "943     -0.183655 -0.052497 -0.062368 -0.042298 -0.179054 -0.051924  1.000000  \n",
      "\n",
      "[943 rows x 943 columns]\n"
     ]
    }
   ],
   "source": [
    "# Calculate cosine similarity between users\n",
    "user_similarity = cosine_similarity(user_item_matrix_standardize)\n",
    "user_similarity_df = pd.DataFrame(user_similarity, index=user_item_matrix_standardize.index, columns=user_item_matrix_standardize.index)\n",
    "print(user_similarity_df)"
   ]
  },
  {
   "cell_type": "markdown",
   "id": "89bd39e8-7951-4e75-bfe3-2a3c3b19e542",
   "metadata": {},
   "source": [
    "#### Make Recommendations Using Similar Users"
   ]
  },
  {
   "cell_type": "code",
   "execution_count": 88,
   "id": "91d4eca9-2df0-4c10-8253-7f92d0c5d227",
   "metadata": {},
   "outputs": [
    {
     "name": "stdout",
     "output_type": "stream",
     "text": [
      "                                                title  movie_id  \\\n",
      "0                                  Stand by Me (1986)       655   \n",
      "1   Dr. Strangelove or: How I Learned to Stop Worr...       474   \n",
      "2                                     Heathers (1989)       433   \n",
      "3                   E.T. the Extra-Terrestrial (1982)       423   \n",
      "4                                       Batman (1989)       403   \n",
      "5                                  Real Genius (1985)       746   \n",
      "6                                        Speed (1994)       568   \n",
      "7                                    True Lies (1994)       385   \n",
      "8                                  Bob Roberts (1992)       425   \n",
      "9                                     Clueless (1995)       367   \n",
      "10                                       Glory (1989)       651   \n",
      "11                              Close Shave, A (1995)       408   \n",
      "12                  Jackie Chan's First Strike (1996)       455   \n",
      "13             One Flew Over the Cuckoo's Nest (1975)       357   \n",
      "14                                        Dave (1993)       732   \n",
      "15             American Werewolf in London, An (1981)       436   \n",
      "16                               Trainspotting (1996)       475   \n",
      "17                        Beauty and the Beast (1991)       588   \n",
      "18                                  To Die For (1995)       715   \n",
      "19                                  Casablanca (1942)       483   \n",
      "\n",
      "    average_rating  \n",
      "0         0.493150  \n",
      "1         0.481027  \n",
      "2         0.470172  \n",
      "3         0.456098  \n",
      "4         0.429871  \n",
      "5         0.415529  \n",
      "6         0.406057  \n",
      "7         0.386842  \n",
      "8         0.384556  \n",
      "9         0.379292  \n",
      "10        0.360174  \n",
      "11        0.357319  \n",
      "12        0.355894  \n",
      "13        0.351703  \n",
      "14        0.348657  \n",
      "15        0.337769  \n",
      "16        0.334062  \n",
      "17        0.329540  \n",
      "18        0.323555  \n",
      "19        0.322308  \n"
     ]
    }
   ],
   "source": [
    "import numpy as np\n",
    "\n",
    "# Adjusted function to get top N similar users\n",
    "def get_top_n_similar_users(user_id, n=50):\n",
    "    # Sort users by similarity score\n",
    "    similar_users = user_similarity_df[user_id].sort_values(ascending=False).index.tolist()\n",
    "    similar_users.remove(user_id)  # Exclude the user itself\n",
    "    return similar_users[:n]\n",
    "\n",
    "# Adjusted function to include movie titles in recommendations\n",
    "def recommend_movies_for_user(user_id, n_recommendations=10):\n",
    "    # Find top similar users\n",
    "    similar_users = get_top_n_similar_users(user_id)\n",
    "    # Gather ratings from these similar users\n",
    "    similar_users_ratings = user_item_matrix_standardize.loc[similar_users]\n",
    "    # Calculate the average rating for each movie\n",
    "    avg_ratings = similar_users_ratings.mean(axis=0)\n",
    "    # Filter out movies the user has already rated\n",
    "    movies_watched = user_item_matrix_standardize.loc[user_id] > 0\n",
    "    recommendations = avg_ratings[~movies_watched].sort_values(ascending=False).head(n_recommendations)\n",
    "\n",
    "    # Convert recommendations to a DataFrame and label the average rating column\n",
    "    recommendations_df = recommendations.reset_index().rename(columns={0: 'average_rating'})\n",
    "    # Merge with the movies DataFrame to add titles\n",
    "    recommendations_with_titles = recommendations_df.merge(movies, on='movie_id')[['title', 'movie_id', 'average_rating']]\n",
    "    \n",
    "    return recommendations_with_titles\n",
    "\n",
    "# Example recommendation for a user with movie titles\n",
    "#user_id = 1  # Change this to the ID of the user you want to recommend for\n",
    "recommendations = recommend_movies_for_user(user_id=1,n_recommendations=20)\n",
    "print(recommendations)\n"
   ]
  },
  {
   "cell_type": "markdown",
   "id": "6b341229-5dd7-4682-9cce-3be22953bbf5",
   "metadata": {},
   "source": [
    "#### Evaluate the Mode"
   ]
  },
  {
   "cell_type": "code",
   "execution_count": 91,
   "id": "3b9f1008-2d17-479a-ad8f-cba23a8020e5",
   "metadata": {},
   "outputs": [
    {
     "name": "stdout",
     "output_type": "stream",
     "text": [
      "RMSE: 0.15442743369100756\n"
     ]
    }
   ],
   "source": [
    "from sklearn.metrics import mean_squared_error\n",
    "from math import sqrt\n",
    "\n",
    "# Function to calculate RMSE only if actual_ratings and predicted_ratings are not empty\n",
    "def evaluate_recommendations(user_id):\n",
    "    actual_ratings = []\n",
    "    predicted_ratings = []\n",
    "    \n",
    "    # Get list of movies rated by the user\n",
    "    user_rated_movies = user_item_matrix_standardize.loc[user_id].dropna()\n",
    "    \n",
    "    # Iterate through the movies rated by the user\n",
    "    for movie_id, actual_rating in user_rated_movies.items():\n",
    "        # Get the predicted rating from similar users\n",
    "        similar_users = get_top_n_similar_users(user_id)\n",
    "        similar_users_ratings = user_item_matrix_standardize.loc[similar_users, movie_id].dropna()\n",
    "        \n",
    "        # Check if there are ratings available from similar users\n",
    "        if not similar_users_ratings.empty:\n",
    "            predicted_rating = similar_users_ratings.mean()\n",
    "            predicted_ratings.append(predicted_rating)\n",
    "            actual_ratings.append(actual_rating)\n",
    "    \n",
    "    # Calculate RMSE only if we have ratings in both lists\n",
    "    if actual_ratings and predicted_ratings:\n",
    "        rmse = sqrt(mean_squared_error(actual_ratings, predicted_ratings))\n",
    "        print(f\"RMSE: {rmse}\")\n",
    "    else:\n",
    "        print(\"No common movies between user and similar users, unable to calculate RMSE.\")\n",
    "\n",
    "# Example usage for a user\n",
    "user_id = 1  # Replace with the user ID you want to evaluate\n",
    "evaluate_recommendations(user_id=545)\n",
    "\n"
   ]
  }
 ],
 "metadata": {
  "kernelspec": {
   "display_name": "Python 3 (ipykernel)",
   "language": "python",
   "name": "python3"
  },
  "language_info": {
   "codemirror_mode": {
    "name": "ipython",
    "version": 3
   },
   "file_extension": ".py",
   "mimetype": "text/x-python",
   "name": "python",
   "nbconvert_exporter": "python",
   "pygments_lexer": "ipython3",
   "version": "3.12.4"
  }
 },
 "nbformat": 4,
 "nbformat_minor": 5
}
